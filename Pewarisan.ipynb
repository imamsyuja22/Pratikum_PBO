{
  "nbformat": 4,
  "nbformat_minor": 0,
  "metadata": {
    "colab": {
      "provenance": [],
      "authorship_tag": "ABX9TyOs5MaplXwTJcEMPOLKKiu9",
      "include_colab_link": true
    },
    "kernelspec": {
      "name": "python3",
      "display_name": "Python 3"
    },
    "language_info": {
      "name": "python"
    }
  },
  "cells": [
    {
      "cell_type": "markdown",
      "metadata": {
        "id": "view-in-github",
        "colab_type": "text"
      },
      "source": [
        "<a href=\"https://colab.research.google.com/github/imamsyuja22/Pratikum_PBO/blob/main/Pewarisan.ipynb\" target=\"_parent\"><img src=\"https://colab.research.google.com/assets/colab-badge.svg\" alt=\"Open In Colab\"/></a>"
      ]
    },
    {
      "cell_type": "code",
      "execution_count": 1,
      "metadata": {
        "colab": {
          "base_uri": "https://localhost:8080/"
        },
        "id": "lvP63HxSJLY3",
        "outputId": "ec9f83a5-62f0-4cec-f1c9-22eded575eec"
      },
      "outputs": [
        {
          "output_type": "stream",
          "name": "stdout",
          "text": [
            "{'merek': 'Toyota', 'tipe': 'Avanza', 'tahun': 2010, 'jumlah_pintu': 4, 'jumlah_roda': 4}\n",
            "{'merek': 'Yamaha', 'tipe': 'Mio', 'tahun': 2020, 'jumlah_roda': 2}\n",
            "Kendaraan dinyalakan\n",
            "Kendaraan dinyalakan\n"
          ]
        }
      ],
      "source": [
        "# Membuat kelas Kendaraan\n",
        "class Kendaraan:\n",
        "    def __init__(self, merek, tipe, tahun):\n",
        "        self.merek = merek\n",
        "        self.tipe = tipe\n",
        "        self.tahun = tahun\n",
        "\n",
        "    # Metode untuk memulai dan menghentikan kendaraan\n",
        "    def nyalakan(self):\n",
        "        print(\"Kendaraan dinyalakan\")\n",
        "\n",
        "    def matikan(self):\n",
        "        print(\"Kendaraan dimatikan\")\n",
        "\n",
        "# Kelas Mobil yang mewarisi dari Kendaraan\n",
        "class Mobil(Kendaraan):\n",
        "    def __init__(self, merek, tipe, tahun, jumlah_pintu, jumlah_roda):\n",
        "        super().__init__(merek, tipe, tahun)\n",
        "        self.jumlah_pintu = jumlah_pintu\n",
        "        self.jumlah_roda = jumlah_roda\n",
        "\n",
        "# Kelas SepedaMotor yang mewarisi dari Kendaraan\n",
        "class SepedaMotor(Kendaraan):\n",
        "    def __init__(self, merek, tipe, tahun, jumlah_roda):\n",
        "        super().__init__(merek, tipe, tahun)\n",
        "        self.jumlah_roda = jumlah_roda\n",
        "\n",
        "# Membuat objek dari masing-masing kelas\n",
        "mobil = Mobil(\"Toyota\", \"Avanza\", 2010, 4, 4)\n",
        "motor = SepedaMotor(\"Yamaha\", \"Mio\", 2020, 2)\n",
        "\n",
        "# Menampilkan atribut dan menjalankan metode\n",
        "print(mobil.__dict__)\n",
        "print(motor.__dict__)\n",
        "mobil.nyalakan()\n",
        "motor.nyalakan()\n"
      ]
    }
  ]
}