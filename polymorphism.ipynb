{
  "nbformat": 4,
  "nbformat_minor": 0,
  "metadata": {
    "colab": {
      "provenance": [],
      "authorship_tag": "ABX9TyPdHoitsCAcBSE8hsB9Y/Qq",
      "include_colab_link": true
    },
    "kernelspec": {
      "name": "python3",
      "display_name": "Python 3"
    },
    "language_info": {
      "name": "python"
    }
  },
  "cells": [
    {
      "cell_type": "markdown",
      "metadata": {
        "id": "view-in-github",
        "colab_type": "text"
      },
      "source": [
        "<a href=\"https://colab.research.google.com/github/imamsyuja22/Pratikum_PBO/blob/main/polymorphism.ipynb\" target=\"_parent\"><img src=\"https://colab.research.google.com/assets/colab-badge.svg\" alt=\"Open In Colab\"/></a>"
      ]
    },
    {
      "cell_type": "code",
      "execution_count": 1,
      "metadata": {
        "colab": {
          "base_uri": "https://localhost:8080/"
        },
        "id": "uhL_q3G4HVIt",
        "outputId": "bfe82650-bbfc-4270-f050-b74a4da454af"
      },
      "outputs": [
        {
          "output_type": "stream",
          "name": "stdout",
          "text": [
            "Luas: 6\n",
            "Luas: 78.5\n"
          ]
        }
      ],
      "source": [
        "class Bentuk:\n",
        "    def hitung_luas(self):\n",
        "        return \"Tidak Didefinisikan\"\n",
        "\n",
        "class PersegiPanjang(Bentuk):\n",
        "    def __init__(self, panjang, lebar):\n",
        "        self.panjang = panjang\n",
        "        self.lebar = lebar\n",
        "\n",
        "    def hitung_luas(self):\n",
        "        return self.panjang * self.lebar\n",
        "\n",
        "class Lingkaran(Bentuk):\n",
        "    def __init__(self, jari_jari):\n",
        "        self.jari_jari = jari_jari\n",
        "\n",
        "    def hitung_luas(self):\n",
        "        return 3.14 * self.jari_jari ** 2\n",
        "\n",
        "daftar_bentuk = [PersegiPanjang(2, 3), Lingkaran(5)]\n",
        "for bentuk in daftar_bentuk:\n",
        "    print(f\"Luas: {bentuk.hitung_luas()}\")\n"
      ]
    }
  ]
}